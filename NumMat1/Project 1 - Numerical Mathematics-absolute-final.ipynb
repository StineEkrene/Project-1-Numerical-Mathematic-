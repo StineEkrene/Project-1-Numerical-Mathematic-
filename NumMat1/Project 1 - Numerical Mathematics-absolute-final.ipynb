{
 "cells": [
  {
   "cell_type": "markdown",
   "id": "efe61f54",
   "metadata": {},
   "source": [
    "# Underdetermined linear systems\n",
    "\n",
    "__Cadidate number : 10095__\n",
    "\n",
    "This project will discuss underdetermined linear systems, i.e. systems with less equations than unkowns, as show below. Here $ A \\in R^{m\\cdot n}$, $\\vec{x}\\in R^{n}$, $\\vec{y} \\in R^{m}$, where $m < n$. For this senario we have 2 options, there could be no solution, or there could be infinitely many solutions, $\\vec{x}$.\n",
    "\n",
    "$$\\begin{equation*}\n",
    "A\\vec{x} = \\vec{y}\n",
    "\\label{eq:vector_ray} \\tag{1}\n",
    "\\end{equation*}$$\n"
   ]
  },
  {
   "cell_type": "code",
   "execution_count": 20,
   "id": "4af9a004",
   "metadata": {},
   "outputs": [],
   "source": [
    "# We start by importing all the necessary libraries\n",
    "import numpy as np\n",
    "import scipy as sp\n",
    "from scipy import linalg\n",
    "import matplotlib.pyplot as plt\n",
    "import time"
   ]
  },
  {
   "cell_type": "markdown",
   "id": "196db039",
   "metadata": {},
   "source": [
    "__Problem 1a__"
   ]
  },
  {
   "cell_type": "markdown",
   "id": "8b62a146",
   "metadata": {},
   "source": [
    "A system of equations can be described using the following equation; $Ax = y$, where $A \\in R^{m \\times n}$, $ x \\in R^{m} $ and $y \\in R^{n}$. \n",
    "Lets say we have a system of equations as described above, where $m=2$ and $n=2$. This system can be written in the following way:\n",
    "\n",
    "$$\\begin{equation*}\n",
    "\\begin{bmatrix}\n",
    "    a \\ b \\ c \\\\\n",
    "    d \\ d \\ f\n",
    "\\end{bmatrix}\n",
    "\\begin{bmatrix}\n",
    "    x_{1} \\\\\n",
    "    x_{2} \\\\\n",
    "    x_{3} \n",
    "\\end{bmatrix} = \n",
    "\\begin{bmatrix}\n",
    "    y_{1} \\\\\n",
    "    y_{2} \n",
    "\\end{bmatrix}\n",
    "\\label{eq:vector_ray} \\tag{2}\n",
    "\\end{equation*}$$\n",
    "\n",
    "For the sake of simplicity lets choose $a, ... , f = 1$. The we get the following equations: \n",
    "\n",
    "\n",
    "\n",
    "$$x_1 + x_2 + x_3 = y_1$$\n",
    "$$x_1 + x_2 + x_3 = y_2$$\n",
    "\n",
    "From this we see that the system has infinitely many solutions if $y_1 \\ne y_2$ and no solution if $y_1 = y_2$. To conclude the system\n",
    "\n"
   ]
  },
  {
   "cell_type": "markdown",
   "id": "97a4fb4a",
   "metadata": {},
   "source": [
    "$$\\begin{equation*}\n",
    "A = \\begin{bmatrix}\n",
    "    1 \\ 1 \\ 1 \\\\\n",
    "    1 \\ 1 \\ 1\n",
    "\\end{bmatrix}\n",
    "\\text{ and }\n",
    "y = \\begin{bmatrix}\n",
    "    1 \\\\\n",
    "    2 \n",
    "\\end{bmatrix}\n",
    "\\label{eq:vector_ray} \\tag{3}\n",
    "\\end{equation*}$$\n",
    "\n",
    "has infinitely many solutions, while "
   ]
  },
  {
   "cell_type": "markdown",
   "id": "49b916a5",
   "metadata": {},
   "source": [
    "$$\\begin{equation*}\n",
    "A = \\begin{bmatrix}\n",
    "    1 \\ 1 \\ 1 \\\\\n",
    "    1 \\ 1 \\ 1\n",
    "\\end{bmatrix}\n",
    "\\text{ and }\n",
    "y = \\begin{bmatrix}\n",
    "    1 \\\\\n",
    "    1 \n",
    "\\end{bmatrix}\n",
    "\\label{eq:vector_ray} \\tag{4}\n",
    "\\end{equation*}$$\n",
    "has no solutions. "
   ]
  },
  {
   "cell_type": "markdown",
   "id": "6793e743",
   "metadata": {},
   "source": [
    "__Problem 1b__"
   ]
  },
  {
   "cell_type": "markdown",
   "id": "9fb9426b",
   "metadata": {},
   "source": [
    "Suppose now that we have a matrix $A = R^{m\\times n}$, we still have that m < n. We are now gonna look at the matrices $A^{T}A$ and $AA^{T}$ and their abilities. Firtsly, both of these matrices are symmetric. \n",
    "\n",
    "$\\it{Proof:}$\n",
    "\n",
    "By definition a symetric matrix satisfy $A = A^{T}$. \n",
    "Following identity will also be useful: \n",
    "$\\begin{equation*}\n",
    "(AB)^{T} = B^{T}A^{T}\n",
    "\\label{eq:vector_ray} \\tag{5}\n",
    "\\end{equation*}$\n",
    "\n",
    "\n",
    "$(A^{T}A)^{T} \\stackrel{(5)}{=} A^{T}(A^{T})^{T} = A^{T}A \\implies A^{T}A \\text{ is symetric }$\n",
    "\n",
    "$(AA^{T})^{T} \\stackrel{(5)}{=} (A^{T})^{T}A^{T} = AA^{T} \\implies AA^{T} \\text{ is symetric }$ $\\quad qed$\n",
    "\n"
   ]
  },
  {
   "cell_type": "markdown",
   "id": "7cbaa8c2",
   "metadata": {},
   "source": [
    "Futhermore both matrices is positive semi-definite. \n",
    "\n",
    "$\\it{Proof:}$\n",
    "\n",
    "A matrix B is positive semi-definite if the following equation holds\n",
    "$x^{T}Bx \\ge 0$, and positive definite if the following equation holds\n",
    "$x^{T}Bx > 0$, for all nonzero columnvector x. Lets start with $A^{T}A$, then $B = A^{T}A$. \n",
    "\n",
    "$$x^{T}A^{T}Ax \\stackrel{(5)}{=} (Ax)^{T}(Ax)$$\n",
    "\n",
    "we recognize this as the inner product, $\\langle \\; Ax, Ax\\;\\rangle = ||Ax||_2^{2}$\n",
    "\n",
    "$$x^{T}A^{T}Ax \\stackrel{(5)}{=} (Ax)^{T}(Ax) = ||Ax||_2^{2} \\ge 0$$\n",
    "\n",
    "When proving positive semi-definite for AA^{T}, we are following the same approach\n",
    "\n",
    "$$x^{T}AA^{T}x \\stackrel{(5)}{=} (A^{T}x)^{T}(A^{T}x) = ||A^{T}x||_2^{2} \\ge 0$$\n",
    "\n",
    "$\\implies$ both $AA^{T}$ and $A^{T}A$ are positive semi-definite. $\\quad qed$\n"
   ]
  },
  {
   "cell_type": "markdown",
   "id": "22261217",
   "metadata": {},
   "source": [
    "If the matrix $A$ is of full rank, Rank(A) = m, $AA^{T}$ is invertible whilst $A^{T}A$ is not. \n",
    "\n",
    "$\\textit{Proof:}$\n",
    "\n",
    "The following statements are equivalent and will be used in our proof:\n",
    "\n",
    "$$\\text{The square matrix if of full rank} \\iff \\text{The square matrix is invertible}$$\n",
    "\n",
    "We also need the following identity in our proof\n",
    "$\\begin{equation*}\n",
    "Rank(A) = Rank(A^{T}A) = Rank(AA^{T})\n",
    "\\label{eq:vector_ray} \\tag{6}\n",
    "\\end{equation*}$\n",
    "\n",
    "Since the rank of A is known, so is the rank of $A^{T}A$ and $AA^{T}$. From equation 6. we get $Rank(A) = Rank(A^{T}A) = Rank(AA^{T}) = m$. A matrix $B \\in R^{x\\times y}$ if of full rank iff it has x linearly independent column vectores. \n",
    "\n",
    "The dimentions of $A^{T}A$ and $AA^{T}$ one can derive from basic rules of matrix multiplication, $A^{T}A \\in R^{n\\times n}$ and $AA^{T} \\in R^{m\\times m}$. We recall that $A^{T}A$ is of full rank iff $Rank(A^{T}A) = n$, since $A^{T}A \\in R^{n\\times n}$. However $Rank(A^{T}A) = m$ and $m<n \\implies$ the matrix is not of full rank, and therefore also not invertible. For $AA^{T}\\in R^{m\\times m}$ we have full rank if $Rank(AA^{T}) = m$, which we know to be true. There for $AA^{T}$ is invertible. $\\quad qed$\n",
    "\n",
    "$\\textit{Observation:}$\n",
    "\n",
    "Since $A^{T}A$ invertible it also is positive definite;\n",
    "$$x^{T}A^{T}Ax \\stackrel{(5)}{=} (Ax)^{T}(Ax) = ||Ax||_2^{2} > 0$$"
   ]
  },
  {
   "cell_type": "markdown",
   "id": "38c7c2ec",
   "metadata": {},
   "source": [
    "__Problem 1c__"
   ]
  },
  {
   "cell_type": "markdown",
   "id": "d16c45b2",
   "metadata": {},
   "source": [
    "We are given the following Lagrange function. \n",
    "\n",
    "$L(x,\\lambda) = x^{T}x + \\lambda^{T}(Ax-y)$\n",
    "\n",
    "$\\textit{\"The idea is that if we minimize L with respect to 𝒙 and simultaneously maximize with respect\n",
    "to}$\n",
    "$\\lambda $\n",
    "$\\textit{then this requires}$ $Ax - y$ $\\textit{to become the zero vector\"}$ (R. Bergmann, E. Çokaj, M. Ludvigsen, 2022)\n",
    "\n",
    "To achive this we compute the following 2 gradients, $\\nabla_{x}L(x,\\lambda)$ and $\\nabla_{\\lambda}L(x,\\lambda)$, and set them equal to 0. Which results in the following: \n",
    "\n",
    "$\\begin{equation*}\n",
    "\\nabla_{x}L(x,\\lambda) = \\frac{\\partial}{\\partial x}x^{T}x + \\lambda^{T}(Ax-y) = 2x + A^{T}\\lambda = 0\n",
    "\\label{eq:vector_ray} \\tag{7}\n",
    "\\end{equation*}$\n"
   ]
  },
  {
   "cell_type": "markdown",
   "id": "5eb8c50f",
   "metadata": {},
   "source": [
    "$\\begin{equation*}\n",
    "\\nabla_{\\lambda}L(x,\\lambda)= \\frac{\\partial}{\\partial \\lambda}x^{T}x + \\lambda^{T}(Ax-y) = Ax - y = 0\n",
    "\\label{eq:vector_ray} \\tag{8}\n",
    "\\end{equation*}$"
   ]
  },
  {
   "cell_type": "markdown",
   "id": "817a3d14",
   "metadata": {},
   "source": [
    "By rewriting eq. $(7)$ we get:\n",
    "$x  = - \\frac{1}{2}A^{T}\\lambda$, this we can insert into eq. $(8)$ to recive a expression for $\\lambda$. \n",
    "\n",
    "$$\\nabla_{\\lambda}L(x,\\lambda)= Ax - y = A(- \\frac{1}{2}A^{T}\\lambda) - y = - \\frac{1}{2} AA^{T}\\lambda -y $$\n",
    "\n",
    "$$\\iff AA^{T}\\lambda = -2y\\iff (AA^{T})^{-1}AA^{T}\\lambda = -2(AA^{T})^{-1}y$$\n",
    "\n",
    "$$\\implies \\lambda = -2(AA^{T})^{-1}y$$\n",
    "\n",
    "If we insert this expression into our expression for x, we recive an expression for $x_{min}$ not containing $\\lambda$.\n",
    "\n",
    "$$x_{min}  = - \\frac{1}{2}A^{T}(-2(AA^{T})^{-1}y) =A^{T}(AA^{T})^{-1}y $$"
   ]
  },
  {
   "cell_type": "markdown",
   "id": "047ceafa",
   "metadata": {},
   "source": [
    "__Problem 1d__"
   ]
  },
  {
   "cell_type": "markdown",
   "id": "3c8b62fc",
   "metadata": {},
   "source": [
    "From this point on we want to use QR decomposition to solve for $x_{min}$, by using the reduced QR decomposition of $A^{T} = QR$. This definition of Q and R gives us the following dimentiones: \n",
    "\n",
    "$$Q \\in R^{n\\times m} \\text{ and } R\\in R^{m\\times m}$$\n",
    ", where Q is orthogonal ($Q^{-1} = Q^{T}$) and R is upper triangular. Note that m < n. Lets now rewrite $x_{min}$ as a function of Q, R and y. \n",
    "\n",
    "$$A^{T} = QR \\stackrel{(5)}{\\iff} A = R^{T}Q^{T}$$\n",
    "\n",
    "$$\\implies x_{min}= (QR)((R^{T}Q^{T})(QR))^{-1}y = QR(R^{T}Q^{T}QR)^{-1}y$$\n",
    "\n",
    "Recall that $Q^{-1} = Q^{T} \\implies Q^{T}Q = I$\n",
    "\n",
    "$$x_{min}= (QR)(R^{T}R)^{-1}y = QRR^{-1}R^{-T}y = QR^{-T}y $$"
   ]
  },
  {
   "cell_type": "markdown",
   "id": "b12aacd6",
   "metadata": {},
   "source": [
    "We know want to implement this decomposition in python, to do this we use the Gram-Schmidt method. When implementing this method it is important to remember that $QR$ represents $A^{T}$, not $A$ itself. This is something I have taken into consideration when implementing. One might notice that I have not transposed the input matrix A, the reason for this is that the indexing in python is different from how we usually write it. To reach the elements in the easiest way possible, I have therefore used a little trick. "
   ]
  },
  {
   "cell_type": "code",
   "execution_count": 21,
   "id": "6199036f",
   "metadata": {},
   "outputs": [],
   "source": [
    "def Gram_Schmidt(A_input):\n",
    "    # Finds the dimention of the matrix A_input\n",
    "    m = len(A_input)\n",
    "    n = len(A_input[0])\n",
    "    \n",
    "    # Creates empty Q and R matrices which later are going to be filled up\n",
    "    Q = np.zeros((m,n))\n",
    "    R = np.zeros((m,m))\n",
    "    \n",
    "    # Finds the values of Q and adds them to the empty matrix\n",
    "    for k in range(0,m):\n",
    "        u = A_input[k]\n",
    "        for j in range(0,k):\n",
    "            u = u - np.matmul(A_input[k],Q[j])*Q[j]\n",
    "        Q[k] = (u)/(np.linalg.norm(u))\n",
    "    \n",
    "    # Finds the values of R and adds them to the empty matrix\n",
    "    for k in range(0,m):\n",
    "        for j in range(k,m):\n",
    "            R[k][j] = np.matmul(A_input[j],Q[k])\n",
    "    \n",
    "    # Return Q^{T} and R, here we take into account that we previously used\n",
    "    # different indexes for Q and A_input to simpler to access the elements\n",
    "    return Q.T,R\n"
   ]
  },
  {
   "cell_type": "markdown",
   "id": "5b275b21",
   "metadata": {},
   "source": [
    "Below is an exampel where I use the Gram Schmidt method to decompose a matrix, here just called matrix, and then composing it again using the decomposition. This example matrix will be used multiple times in this project.  "
   ]
  },
  {
   "cell_type": "code",
   "execution_count": 22,
   "id": "b09ba2d6",
   "metadata": {},
   "outputs": [
    {
     "name": "stdout",
     "output_type": "stream",
     "text": [
      "This is the original matrix:\n",
      " [[2. 5. 2.]\n",
      " [1. 2. 3.]]\n",
      "Here is the QR decomposition:\n",
      " Q: [[ 0.34815531 -0.04445542]\n",
      " [ 0.87038828 -0.35564338]\n",
      " [ 0.34815531  0.93356387]] \n",
      "R:\n",
      " [[5.74456265 3.13339781]\n",
      " [0.         2.04494943]]\n",
      "Here is the product of QR (The transposed)\n",
      " [[2. 1.]\n",
      " [5. 2.]\n",
      " [2. 3.]]\n",
      "Here is the reconstructed matrix\n",
      " [[2. 5. 2.]\n",
      " [1. 2. 3.]]\n"
     ]
    }
   ],
   "source": [
    "# Our example matrix\n",
    "matrix = np.array([[2,5,2],[1,2,3]], dtype = float)\n",
    "print(\"This is the original matrix:\\n\",matrix)\n",
    "\n",
    "# Decomposition and recreation of the exampel matrix\n",
    "Q_matrix, R_matrix = Gram_Schmidt(matrix)\n",
    "print(\"Here is the QR decomposition:\\n Q:\",Q_matrix,\"\\nR:\\n\", R_matrix)\n",
    "print(\"Here is the product of QR (The transposed)\\n\", np.matmul(Q_matrix,R_matrix))\n",
    "print(\"Here is the reconstructed matrix\\n\", np.matmul(Q_matrix,R_matrix).T)"
   ]
  },
  {
   "cell_type": "markdown",
   "id": "52aa417e",
   "metadata": {},
   "source": [
    "__Problem 1e__"
   ]
  },
  {
   "cell_type": "markdown",
   "id": "a4b85477",
   "metadata": {},
   "source": [
    "From our QR decomposition we are able to calculate $x_{min}$ from the equation derived above; $x_{min}= QR^{-T}y$. The issue with this expression is that calculating an inverse is quite demanding, and is more demanding for larger matrices. To avoid inversing the matrix $R^{T}$ we will rewrite the equation $x_{min}= QR^{-T}y$ into a system of equations by setting $R^{-T}y = z$. \n",
    "\n",
    "$$x_{min}= QR^{-T}y = Qz \\implies z = R^{-T}y \\implies R^{T}z = y$$\n",
    "\n",
    "From this we recive a system of two equations, where there is no need to inverse a matrix. When solving this systemt the first thing one must do is solving for z, which can easily be done by forward substitution, since $R^{T}$ is lower triangular. After this one can find $x_{min}$ simply by multiplying $Q$ and $z$. \n"
   ]
  },
  {
   "cell_type": "code",
   "execution_count": 23,
   "id": "f794fc28",
   "metadata": {},
   "outputs": [],
   "source": [
    "def x_min_calculator(Q,R,y):\n",
    "    # Solves for z, forward substitution\n",
    "    z = linalg.solve_triangular(R.T,y,lower = True)\n",
    "    # Calculates x_min from z and Q\n",
    "    x_min = np.matmul(Q,z)\n",
    "    return x_min"
   ]
  },
  {
   "cell_type": "markdown",
   "id": "72e95766",
   "metadata": {},
   "source": [
    "Below is a cell with a test example, the example used is the same as for the Gram-Schmidt example, with a chosen vector y. First we calculate the solution $x_{min}$, then we check if it is a valid solution. "
   ]
  },
  {
   "cell_type": "code",
   "execution_count": 24,
   "id": "45db2281",
   "metadata": {},
   "outputs": [
    {
     "name": "stdout",
     "output_type": "stream",
     "text": [
      "This is the solution to the exampel problem:\n",
      "x_min =  [0.13043478 0.04347826 1.26086957]\n",
      "\n",
      "This is the recreation of y:\n",
      "y_matrix [3. 4.]\n"
     ]
    }
   ],
   "source": [
    "y_matrix = np.array([3,4],dtype = float)\n",
    "x_min_matrix = x_min_calculator(Q_matrix,R_matrix,y_matrix)\n",
    "\n",
    "print(\"This is the solution to the exampel problem:\\nx_min = \",x_min_matrix )\n",
    "print(\"\\nThis is the recreation of y:\\ny_matrix\", np.matmul(matrix, x_min_matrix))\n"
   ]
  },
  {
   "cell_type": "markdown",
   "id": "8a5be179",
   "metadata": {},
   "source": [
    "One can see that the recreation of y, is identical to our original value. Therefore one can conclude with the fact that x_min_calculator is accurate, at least for this case."
   ]
  },
  {
   "cell_type": "markdown",
   "id": "640c7164",
   "metadata": {},
   "source": [
    "__Problem 1f__"
   ]
  },
  {
   "cell_type": "markdown",
   "id": "88b0902b",
   "metadata": {},
   "source": [
    "We have now implemented a method for solving underdetermined linear systems. Lets now compare our method aginst the numpy implementations. We first generate a matrix A, the we generate 100 X (solutions) and uses this to compute 100 Y. Using the matrix A and the 100 Y vectors, we try to recompute the solutions using our implementations. Finally I want to compare these method, both in regards to computational time and error. "
   ]
  },
  {
   "cell_type": "code",
   "execution_count": 25,
   "id": "c4be488a",
   "metadata": {},
   "outputs": [],
   "source": [
    "# Generate matrix A \\in \\mathbb{R}^{m \\times n}\n",
    "def generate_A(m,n):\n",
    "    \"\"\"\n",
    "    Generates m times n with correlated columns.\n",
    "    Input:\n",
    "        m: int, first dimension of A\n",
    "        n: int, second dimension of A\n",
    "    output:\n",
    "        A: (m,n) array\n",
    "    \"\"\"\n",
    "\n",
    "    cov_eigvecs = np.random.uniform(-1.0,1.0,(n,n))\n",
    "    cov = cov_eigvecs.T @ cov_eigvecs\n",
    "    v = np.sqrt(np.diag(cov))\n",
    "    outer_v = np.outer(v, v)\n",
    "    corr = cov / outer_v\n",
    "    corr[cov == 0] = 0\n",
    "    chol = sp.linalg.cholesky(corr, lower=True) \n",
    "    A = np.random.normal(0, 1.0,(m,n))\n",
    "    A = np.dot(A,chol.T)\n",
    "    return A\n",
    "\n",
    "m = 2048\n",
    "n = 8096\n",
    "A = generate_A(m,n)"
   ]
  },
  {
   "cell_type": "code",
   "execution_count": 26,
   "id": "18aa8745",
   "metadata": {},
   "outputs": [
    {
     "name": "stdout",
     "output_type": "stream",
     "text": [
      "(8096, 100)\n",
      "(2048, 100)\n"
     ]
    }
   ],
   "source": [
    "N = 100 # Number of test data we want to generate\n",
    "\n",
    "# Generate solutions X columnwise, X[:,i] to access i-th vector\n",
    "X = np.random.normal(0.0,1.0,(A.shape[1],N))\n",
    "\n",
    "# Generate left hand sides Y columnwise Y[:,i] to access lhs\n",
    "Y = np.dot(A,X)\n",
    "\n",
    "# Doublecheck shapes\n",
    "print(X.shape) # Expect (n,N)\n",
    "print(Y.shape) # Expect (m,N)"
   ]
  },
  {
   "cell_type": "code",
   "execution_count": 27,
   "id": "3b9e5460",
   "metadata": {},
   "outputs": [
    {
     "name": "stdout",
     "output_type": "stream",
     "text": [
      "The precalculations for np.linalg.solve uses:  0.5415339469909668 s\n",
      "The np.linalg.solve uses:  18.6202130317688 s\n"
     ]
    }
   ],
   "source": [
    "# Testing the numpy implementations\n",
    "t_start = time.time() # Times the precalculations\n",
    "AAT = np.matmul(A,A.T)\n",
    "\n",
    "t_stop = time.time()\n",
    "print(\"The precalculations for np.linalg.solve uses: \", t_stop-t_start,\"s\")\n",
    "\n",
    "t_start = time.time() # Times the solver\n",
    "x_min_numpy = X.copy() # Creates an empty array to save the calculated x_min values\n",
    "\n",
    "# Solves for x_min for different Y vales\n",
    "for i in range(0,N):\n",
    "    z = np.linalg.solve(AAT,Y[:,i])\n",
    "    x_min_numpy[:,i] = np.matmul(A.T,z)\n",
    "    \n",
    "t_stop = time.time()\n",
    "print(\"The np.linalg.solve uses: \", t_stop-t_start,\"s\")"
   ]
  },
  {
   "cell_type": "code",
   "execution_count": 28,
   "id": "dd5c8bda",
   "metadata": {},
   "outputs": [
    {
     "name": "stdout",
     "output_type": "stream",
     "text": [
      "The precalculations for our QR method uses:  58.79280376434326 s\n",
      "Our QR method uses:  0.9023988246917725 s\n"
     ]
    }
   ],
   "source": [
    "# Testing the QR decomposition method\n",
    "t_start = time.time() # Times the precalculations\n",
    "\n",
    "# Calculates the Q and R from the matrix A generated above\n",
    "Q , R = Gram_Schmidt(np.copy(A)) \n",
    "\n",
    "t_stop = time.time()\n",
    "print(\"The precalculations for our QR method uses: \", t_stop-t_start,\"s\")\n",
    "\n",
    "t_start = time.time() # Times the solver\n",
    "# Creates an empty array to save the calculated x_min values\n",
    "x_min_QR = X.copy()\n",
    "\n",
    "# Solves for x_min for different Y vales\n",
    "for i in range(0,N):\n",
    "    x_min_QR[:,i] = x_min_calculator(Q,R,Y[:,i])\n",
    "\n",
    "t_stop = time.time()\n",
    "print(\"Our QR method uses: \", t_stop-t_start,\"s\")"
   ]
  },
  {
   "cell_type": "code",
   "execution_count": 29,
   "id": "a55da1ad",
   "metadata": {},
   "outputs": [
    {
     "data": {
      "text/plain": [
       "<matplotlib.legend.Legend at 0x7fa903bd9700>"
      ]
     },
     "execution_count": 29,
     "metadata": {},
     "output_type": "execute_result"
    },
    {
     "data": {
      "image/png": "[encoded data removed]",
      "text/plain": [
       "<Figure size 1296x864 with 1 Axes>"
      ]
     },
     "metadata": {
      "needs_background": "light"
     },
     "output_type": "display_data"
    }
   ],
   "source": [
    "# Creates empty lists to store the errors\n",
    "error_numpy = np.zeros(N)\n",
    "error_my_QR = np.zeros(N)\n",
    "\n",
    "# Caluclates the errors based on x_true and the calculated x_min for the different methods\n",
    "for i in range(0,N):\n",
    "    error_numpy[i] = np.linalg.norm(X[:,i]-x_min_numpy[:,i])\n",
    "    error_my_QR[i] = np.linalg.norm(X[:,i]-x_min_QR[:,i])\n",
    "\n",
    "# Plots both the erro for our QR method and the numpy method\n",
    "plt.figure(figsize=(18, 12))\n",
    "plt.grid()\n",
    "plt.title(\"Error\", size = 24)\n",
    "plt.xlabel(\"N\", size = 20)\n",
    "plt.ylabel(\"Error\", size = 20)\n",
    "plt.plot(error_numpy, color = 'green')\n",
    "plt.plot(error_my_QR, color = 'blue')\n",
    "plt.hlines(np.linalg.norm(X[:,0]),0,100, color = 'red')\n",
    "plt.legend(['Error numpy', 'Error my QR', 'The norm of the true solution'])"
   ]
  },
  {
   "cell_type": "markdown",
   "id": "817eb546",
   "metadata": {},
   "source": [
    "Overall timewise the NumPy implementation preformes best, and is 3-4 times faster than the QR method. This is largely due to the precalculation time for the QR method, which is about 54 sec. In comparison the precalculation for the NumPy implementation is a couple of milliseconds.\n",
    "Once the precalculations are done, our solver (with the QR decomposition) is significantly faster. This indicated that for a large set of Y values, the time used for the QR method will not change significantly. Hence the QR method will be faster than the NumPy implementation if the set of Y values is significantly large. \n",
    "When it comes to error there is little to no difference between the two methods. Above is a plot of the error ($||x_{min}-x_{true}||$) for both of the methods. The errors lay on top of each other in the plot, therefore one is only able to see the error of the QR method. But how big of an error is this? Is our solution any good? \n",
    "\n",
    "For our set of equations there are indefinetly many solutions, one of which we have found. Seen as we know that $x_{true}$ is normally distrubuted around 0, this wolud be a natural and logical guess for a solution. The error would then be $||x_{true} - 0|| = ||x_{true}||$. This is the red line ploted above. As one see the error for this solution lays at approximatly 90. Whilst the solution we hav caluclated has a norm of about 78 $\\pm$. In other words our solution is closer to $x_{true}$ that a natural guess. That said we are able to recover a solution in a meanigful way."
   ]
  },
  {
   "cell_type": "markdown",
   "id": "e4ba9cca",
   "metadata": {},
   "source": [
    "__Problem 2a__"
   ]
  },
  {
   "cell_type": "markdown",
   "id": "f275ad95",
   "metadata": {},
   "source": [
    "Up to this point we hav been trying to solve the equation $Ax = y$ by using constraints. Lets now try solving the system by using the least square solution. \n",
    "\n",
    "$$\\text{arg}\\min_{x\\in R^{n}} ||Ax-y||^2$$\n",
    "\n",
    "As an alternitive to constraining our solution, we could introduce a weight $> 0$, here denoted by $\\mu$. This weight is used to balance between a solution and a small norm. From this we obtain Tikhonov regularisation\n",
    "\n",
    "$$x_r = \\text{arg}\\min_{x\\in R^{n}} ||Ax -y ||^{2} + \\mu||x||^{2}$$\n",
    "\n",
    "A solution of the Tikhonov regularisation, satisfies $\\nabla_{x}T(x)=0$\n",
    "\n",
    "$$T(x) = ||Ax-y||^{2} + \\mu||x||^{2}$$\n",
    "\n",
    "$$\\nabla_{x}T(x)= \\frac{\\partial}{\\partial x} ||Ax-y||^{2} + \\mu||x||^{2} = 2 \\cdot A^{T}(Ax-y)+ 2 I \\mu x = 0$$\n",
    "$$ 2A^{T}Ax-2A^{T}y+ 2 I \\mu x = 0 \\iff A^{T}Ax+  \\mu Ix = A^{T}y$$\n",
    "\n",
    "$$\\implies (A^{T}A+  \\mu I)x_r = A^{T}y $$"
   ]
  },
  {
   "cell_type": "markdown",
   "id": "50dd8493",
   "metadata": {},
   "source": [
    "$(A^{T}A+\\mu I)$ is SPD (symetric positive definite) i following is satisfied\n",
    "\n",
    "1. $(A^{T}A+\\mu I) = (A^{T}A+\\mu I)^{T} \\quad$ (Symetric)\n",
    "2. $x^{T}(A^{T}A+\\mu I)x > 0\\qquad\\qquad$ (Positive definite)\n",
    "\n",
    "$\\textit{Proof:}$\n",
    "$$(A^{T}A+\\mu I)^{T} = (A^{T}A)^{T} + (\\mu I)^{T} = A^{T}A + \\mu I \\implies \\text{$A^{T}A+\\mu I$ is symetric} $$\n",
    "\n",
    "$$x^{T}(A^{T}A+\\mu I)x = x^{T}A^{T}Ax+x^{T}\\mu Ix = (Ax)^{T}(Ax) + \\mu (x^{T})(x) $$\n",
    "\n",
    "$$=\\langle \\; Ax, Ax\\;\\rangle + \\mu\\langle \\; x, x\\;\\rangle = ||Ax||_2^{2} + \\mu ||x||_2^{2} > 0 \\implies \\text{Positive definite}$$\n",
    "\n",
    "$$A^{T}A+\\mu I \\text{ is SPD and therefore also invertible}$$"
   ]
  },
  {
   "cell_type": "markdown",
   "id": "fa130860",
   "metadata": {},
   "source": [
    "__Problem 2b__"
   ]
  },
  {
   "cell_type": "markdown",
   "id": "e35b5483",
   "metadata": {},
   "source": [
    "Lets suppose $A = U\\Sigma V^{T}$ is a SVD of A. Using this expression of A we can rewrite our expression of $x_r$. Recall that for SVD we have that $U^{T}U = I_m$ and $V^{T}V = I_n$ gived that A i an $m\\times n$ matrix\n",
    "$$(A^{T}A+  \\mu I)x_r = A^{T}y \\implies x_r = (A^{T}A+ \\mu I)^{-1}A^{T}y$$\n",
    "\n"
   ]
  },
  {
   "cell_type": "markdown",
   "id": "d10e9be4",
   "metadata": {},
   "source": [
    "$$x_r = ((U\\Sigma V^{T})^{T}(U\\Sigma V^{T})+  \\mu I)^{-1}(U\\Sigma V^{T}y)^{T}$$\n",
    "\n",
    "$$x_r = (V\\Sigma^{T}U^{T}U\\Sigma V^{T} +  \\mu I)^{-1}V\\Sigma{T}U^{T}y = (V\\Sigma^{T}\\Sigma V^{T} +  \\mu I)^{-1}V\\Sigma^{T}U^{T}y$$\n",
    "\n",
    "$$= (V\\Sigma^{T}\\Sigma V^{T} +  V\\mu IV^{T})^{-1}V\\Sigma^{T}U^{T}y$$\n",
    "\n",
    "Let say $D_1 = \\Sigma^{T}\\Sigma$, $D_2 = \\mu I$ and $D_3 = D_1 + D_2$ $$\\implies V\\Sigma^{T}\\Sigma V^{T} +  V\\mu IV^{T} = VD_1 V^{T} +  VD_2V^{T} = VD_3V^{T}$$\n",
    "\n",
    "$$x_r = (VD_3V^{T})^{-1}V\\Sigma^{T}U^{T}y =V^{-T}D_3^{-1}V^{-1}V\\Sigma^{T}U^{T}y = VD_3^{-1}\\Sigma^{T}U^{T}y$$\n",
    "\n",
    "Lets set $D = D_3^{-1}\\Sigma^{T}$ then\n",
    "\n",
    "$$x_r = VDU^{T}y$$\n",
    "\n",
    "Where $D = (\\Sigma^{T}\\Sigma + \\mu I)^{-1}\\Sigma^{T}$"
   ]
  },
  {
   "cell_type": "markdown",
   "id": "91115685",
   "metadata": {},
   "source": [
    "__Problem 2c__\n",
    "\n",
    "Below the Tikhonov method is implemented as derived above. "
   ]
  },
  {
   "cell_type": "code",
   "execution_count": 30,
   "id": "88a59c7c",
   "metadata": {},
   "outputs": [],
   "source": [
    "# Calculates x_r as derived above (but not multiplyed with y)\n",
    "def Tikhonov_solveSVD(U,S,Vt,mu):\n",
    "    D = S/(S**2 + mu)\n",
    "    x_r = Vt.T * D\n",
    "    x_r = np.matmul(x_r,U.T)\n",
    "    return x_r   "
   ]
  },
  {
   "cell_type": "markdown",
   "id": "601586b3",
   "metadata": {},
   "source": [
    "Lets go back to out example matrix and test the Tikhonov_solveSVD. For our case, let use $\\mu = 0,01$"
   ]
  },
  {
   "cell_type": "code",
   "execution_count": 31,
   "id": "7e51befc",
   "metadata": {},
   "outputs": [
    {
     "name": "stdout",
     "output_type": "stream",
     "text": [
      "For mu = 0.01, we have\n",
      "\n",
      "The solution to out exampel problem with the Tikhonov_solveSVD is\n",
      "x_r = [0.13071414 0.04499166 1.25788889]\n",
      "\n",
      "Which gives the reconstruction:\n",
      "y = [3.00216437 3.99436413]\n"
     ]
    }
   ],
   "source": [
    "# Calculates the SVD\n",
    "U_matrix,S_matrix,Vt_matrix = np.linalg.svd(matrix,full_matrices = False)\n",
    "# Uses the Tikhonov_solveSVD to find x_r (not multiplyed with y)\n",
    "matrix_r_Tikhonov_solveSVD_1 = Tikhonov_solveSVD(U_matrix,S_matrix,Vt_matrix,10**(-2))\n",
    "# Multiply with y\n",
    "matrix_r_Tikhonov_solveSVD_1 = np.matmul(matrix_r_Tikhonov_solveSVD_1,y_matrix)\n",
    "print(\"For mu = 0.01, we have\\n\")\n",
    "print(\"The solution to out exampel problem with the Tikhonov_solveSVD is\\nx_r =\", matrix_r_Tikhonov_solveSVD_1)\n",
    "\n",
    "print(\"\\nWhich gives the reconstruction:\\ny =\", np.matmul(matrix,matrix_r_Tikhonov_solveSVD_1))\n"
   ]
  },
  {
   "cell_type": "markdown",
   "id": "b1d94691",
   "metadata": {},
   "source": [
    "For this mu value we see that the reconstructed y is pretty close to the orignial y. Lets now test for a different $\\mu$ value, $\\mu = 10$"
   ]
  },
  {
   "cell_type": "code",
   "execution_count": 32,
   "id": "652d2e44",
   "metadata": {},
   "outputs": [
    {
     "name": "stdout",
     "output_type": "stream",
     "text": [
      "For mu = 10, we have\n",
      "\n",
      "The solution to out exampel problem with the Tikhonov_solveSVD is\n",
      "x_r = [0.16666667 0.33333333 0.5       ]\n",
      "\n",
      "Which gives the reconstruction:\n",
      "y = [3.         2.33333333]\n"
     ]
    }
   ],
   "source": [
    "# Calculates the SVD\n",
    "U_matrix,S_matrix,Vt_matrix = np.linalg.svd(matrix,full_matrices = False)\n",
    "# Uses the Tikhonov_solveSVD to find x_r (not multiplyed with y)\n",
    "matrix_r_Tikhonov_solveSVD_2 = Tikhonov_solveSVD(U_matrix,S_matrix,Vt_matrix,10)\n",
    "# Multiply with y\n",
    "matrix_r_Tikhonov_solveSVD_2 = np.matmul(matrix_r_Tikhonov_solveSVD_2,y_matrix)\n",
    "print(\"For mu = 10, we have\\n\")\n",
    "print(\"The solution to out exampel problem with the Tikhonov_solveSVD is\\nx_r =\", matrix_r_Tikhonov_solveSVD_2)\n",
    "\n",
    "print(\"\\nWhich gives the reconstruction:\\ny =\", np.matmul(matrix,matrix_r_Tikhonov_solveSVD_2))\n"
   ]
  },
  {
   "cell_type": "markdown",
   "id": "b3a95e41",
   "metadata": {},
   "source": [
    "For the case of $\\mu = 10$ the reconstruction is not as close to the original as $\\mu = 0.01$. This implies that there is a conection between $\\mu$ and how good the solution is. "
   ]
  },
  {
   "cell_type": "markdown",
   "id": "f3608326",
   "metadata": {},
   "source": [
    "__Problem 2d__\n",
    "\n",
    "From the example above we see that for the different $\\mu$ values it varies how good of a solver Tikhonov_solveSVD is. Lets now investigate this more. Now lets create 100 $\\mu$ values in the interval $[10^{-6},10^{6}]$ and iterate over those, for our SVD solver and numpy implementations. "
   ]
  },
  {
   "cell_type": "code",
   "execution_count": 33,
   "id": "a217c0b8",
   "metadata": {},
   "outputs": [],
   "source": [
    "# Defining a list of mu values\n",
    "mu_vals = np.logspace(6,-6,num = 100)"
   ]
  },
  {
   "cell_type": "code",
   "execution_count": 34,
   "id": "5abfa9ab",
   "metadata": {},
   "outputs": [
    {
     "name": "stdout",
     "output_type": "stream",
     "text": [
      "Time used in the Tikhonov_solveSVD method: 165.31343603134155 s\n"
     ]
    }
   ],
   "source": [
    "t_start = time.time() # Times the method\n",
    "U,S,Vt = np.linalg.svd(A,full_matrices = False)\n",
    "\n",
    "# Creates x_r_diff_mu_vals to store the x_min for the different mu values\n",
    "x_r_diff_mu_vals = np.zeros(((len(mu_vals)), n))\n",
    "\n",
    "# Creates empty array to store errors for the different mu vals\n",
    "error_Tikhonov = np.zeros((len(mu_vals)))\n",
    "\n",
    "# Calculating the x_r for different mu values using Tikhonov_solveSVD\n",
    "for i in range(len(mu_vals)):\n",
    "    tiktok = Tikhonov_solveSVD(U,S,Vt,mu_vals[i])\n",
    "    x_r_diff_mu_vals[i] = np.matmul(tiktok, Y[:,0])\n",
    "    error_Tikhonov[i] = np.linalg.norm(X[:,0]-x_r_diff_mu_vals[i])\n",
    "t_stop = time.time() \n",
    "\n",
    "print(\"Time used in the Tikhonov_solveSVD method:\", t_stop-t_start,\"s\")"
   ]
  },
  {
   "cell_type": "code",
   "execution_count": 35,
   "id": "d18a09a7",
   "metadata": {},
   "outputs": [],
   "source": [
    "# Defining a list of mu values for the np.solver\n",
    "mu_vals_10 = np.logspace(6,-6,num = 10)"
   ]
  },
  {
   "cell_type": "code",
   "execution_count": 36,
   "id": "8cf3433c",
   "metadata": {},
   "outputs": [
    {
     "name": "stdout",
     "output_type": "stream",
     "text": [
      "Time used in the np.linalg.solve: 116.18655323982239 s\n"
     ]
    }
   ],
   "source": [
    "t_start = time.time() # Times the solver\n",
    "\n",
    "# Creates empty array to store errors for the different mu vals\n",
    "error_linalg_solve = np.zeros(len(mu_vals_10))\n",
    "x_min_linalg_solve = np.zeros(((len(mu_vals_10),n)))\n",
    "\n",
    "# Precalculations for the np.linalg.solve \n",
    "ATA = np.matmul(A.T,A)\n",
    "ATy = np.matmul(A.T,Y[:,0])\n",
    "I = np.identity(len(ATA))\n",
    "\n",
    "# Calculating the x_r for different mu values using np.linalg.solve\n",
    "for i in range (len(mu_vals_10)):\n",
    "    x_min_linalg_solve[i] = np.linalg.solve((ATA + mu_vals_10[i]*I),ATy)\n",
    "    error_linalg_solve[i] = np.linalg.norm(X[:,0]-x_min_linalg_solve[i])\n",
    "t_stop = time.time()\n",
    "\n",
    "print(\"Time used in the np.linalg.solve:\", t_stop-t_start,\"s\")"
   ]
  },
  {
   "cell_type": "code",
   "execution_count": 37,
   "id": "d7cd3a26",
   "metadata": {},
   "outputs": [
    {
     "data": {
      "image/png": "[encoded data removed]",
      "text/plain": [
       "<Figure size 1296x864 with 1 Axes>"
      ]
     },
     "metadata": {
      "needs_background": "light"
     },
     "output_type": "display_data"
    }
   ],
   "source": [
    "# Plotting the error from the Tikhonov_solveSVD as a function of mu values\n",
    "plt.figure(figsize=(18, 12))\n",
    "plt.grid()\n",
    "plt.title(\"Error in Tikhonov_solveSVD and np.linalg.solve\", size = 24)\n",
    "plt.xlabel(r'different $\\mu$ values', size = 20)\n",
    "plt.ylabel(\"Error\", size = 20)\n",
    "plt.plot(mu_vals, error_Tikhonov, color = 'green')\n",
    "plt.plot(mu_vals_10, error_linalg_solve,color = 'blue')\n",
    "plt.hlines(np.linalg.norm(X[:,0]),10**(-6),10**6, color = 'red')\n",
    "plt.legend(['Error_Tikhonov', 'Error np.linalg.solve','The norm of the true solution'])\n",
    "plt.xscale('log')"
   ]
  },
  {
   "cell_type": "markdown",
   "id": "171cdc69",
   "metadata": {},
   "source": [
    "By timeing the different methods it is easy to see that the np.linalg solve is faster, though it only uses a $1/10$ of the $\\mu$ values compared to the Tikhonov_solveSVD method. Therefore one can conclude with the fact that the Tikhonov is more  computationally efficient. \n",
    "The error functions of the Tikhonov and the np.linalg.solve are pretty much the same. Keep in mind that np.linalg.solve only has $1/10$ of the $\\mu$ values of Tikhonov. \n",
    "For $\\mu$ values in the interval (approximatly) $[10^{-6},10^{2}]$ the error is relativly stabil. As we surpasses these values there is a leap in the values of the error. Which seem to stabilize towards the end of the graph. Below is a graph of the rerro in reconstruction of Y, from the calculated $x_{min}$ in the Tikhonov_solveSVD method. As shown in the graph the smallest error in reconstruction appear for the smallest $\\mu$ values. This is also illustrated in the graph below. Here I have tested how good our solution accually are for the different $\\mu$ values. As one can see only for the small $\\mu$ values, $\\mu \\le 1$  our solution is \"good\", since these are the only cases where $||Ax-y|| = 0$"
   ]
  },
  {
   "cell_type": "code",
   "execution_count": 38,
   "id": "f0744fb4",
   "metadata": {},
   "outputs": [
    {
     "data": {
      "image/png": "[encoded data removed]",
      "text/plain": [
       "<Figure size 1296x864 with 1 Axes>"
      ]
     },
     "metadata": {
      "needs_background": "light"
     },
     "output_type": "display_data"
    }
   ],
   "source": [
    "# Checking which mu value gives the best reconstruction of Y, using the Tikhonov_solveSVD method\n",
    "\n",
    "error_in_reconstruction = np.zeros(len(x_r_diff_mu_vals))\n",
    "for i in range(len(x_r_diff_mu_vals)):\n",
    "    error_in_reconstruction[i] = np.linalg.norm(Y[:,0] - np.matmul(A,x_r_diff_mu_vals[i]))\n",
    "\n",
    "plt.figure(figsize=(18, 12))\n",
    "plt.grid()\n",
    "plt.title(r'||Ax_r - y|| for the Tikhonov_solveSVD', size = 24)\n",
    "plt.xlabel(r'different $\\mu$ values', size = 20)\n",
    "plt.ylabel(\"Error in ||Ax_r - y||\", size = 20)\n",
    "plt.plot(mu_vals, error_in_reconstruction, color = 'green')\n",
    "plt.xscale('log')"
   ]
  },
  {
   "cell_type": "markdown",
   "id": "5f667bb5",
   "metadata": {},
   "source": [
    "__Problem 3a__ "
   ]
  },
  {
   "cell_type": "markdown",
   "id": "67371728",
   "metadata": {},
   "source": [
    "Up till this point we hav be trying to implement a method for solving a system of linear equations. Lets now put those method to use. For the final part of this project we will study so-called single channel source separation problem. An exampel of an single channel source separation problem is a record for which we wish to separete the audio from the instrumeltal, or a picture containing two other images. The latter of which we are going to investigate futher here. Before the implementation itself we need som background information and some derivation. \n",
    "\n",
    "Assume we know that our measured signal $y \\in R^{n}$, which in our case would be the orignial picture, consists of two separate channels, $u \\in R^{n}$ and $v \\in R^{n}$, this will give us the following system: \n",
    "\n",
    "$$u + v = Ax = \\begin{bmatrix}\n",
    "    I\\ I\n",
    "\\end{bmatrix}\\begin{bmatrix}\n",
    "    u\\\\v\n",
    "\\end{bmatrix} = y$$\n",
    "\n",
    "To have a chance of solving this system we will need additional assumtions on $u$ and $v$. Lets say these two signal types can be described by/are close to two different linear subspaces\n",
    "\n",
    "$$Z_0 = Span\\{w_1^{0}, ... ,w_d^{0}\\} \\text{ and } Z_1 = Span\\{w_1^{1}, ... ,w_d^{1}\\}$$\n",
    "\n",
    "here d is the number of basis vectores, we assume that these vector creates an orthogonal basis. The projection onto $Z$ can be calculated by the least squares solution\n",
    "\n",
    "$$proj_z(y) = Wx, \\quad \\text{ where } x = text{arg}\\min_{x\\in R^{d}} ||Wx-y||^2$$\n",
    "\n",
    "The distance between a vector 𝒚 and its orthogonal projection onto the space is then\n",
    "\n",
    "$$||By||^{2} = y^{T}B^{T}By, \\quad B = I -WW^{T}$$\n",
    "\n",
    "With this information in mind we can use the matrix 𝐵 to create a so-called semi-norm\n",
    "\n",
    "$$[[x||_B^{2} = ||Bx||^2 = x^{T}B^{T}Bx = x^{T}Bx$$\n",
    "\n",
    "(R. Bergmann, E. Çokaj, M. Ludvigsen, 2022)"
   ]
  },
  {
   "cell_type": "markdown",
   "id": "020afed2",
   "metadata": {},
   "source": [
    "__Problem 3a__"
   ]
  },
  {
   "cell_type": "markdown",
   "id": "63beed0f",
   "metadata": {},
   "source": [
    "Suppose $B = I - WW^{T}$ and W be a matrix with pairwise orthogonal columns. We want to show two things, $(1)$ show that B is a projection matrix $(B^{2} = B)$ and $(2)$ that B is symmetric positive semi-definite. \n",
    "\n",
    "$\\textit{Proof (1):}$\n",
    "\n",
    "$B^{2} = (I - WW^{T})^{2} = I^{2} - 2WW^{T} + WW^{T}WW^{T}$\n",
    "\n",
    "Since $W$ is pairwise orthogonal we have that $W^{T}W = I$\n",
    "\n",
    "$\\implies B^{2} =  I^{2} - 2WW^{T} + WIW^{T} = I - WW^{T} = B \\quad qed$\n",
    "\n",
    "$\\textit{Proof (2):}$\n",
    "$B$ is symetric if $B = B^{T}$ \n",
    "\n",
    "$B^{T} =  (I - WW^{T})^{T} = I^{T} - (WW^{T})^{T} = I - WW^{T} = B \\implies \\text{B is symetric}$\n",
    "\n",
    "By def a symmetric matrix A is said positive semidefinite $(A \\ge 0)$ if all its eigenvalues are non negative. We know the following\n",
    "\n",
    "$Bx = \\lambda x\\text{ and } B^2 x = \\lambda^{2}x \\text{ and } B = B^2$\n",
    "\n",
    "$\\implies Bx = B^2 x \\implies \\lambda = \\lambda^{2}$\n",
    "\n",
    "$\\implies \\lambda (\\lambda - 1) = 0 \\implies \\lambda = 0 \\quad v \\quad \\lambda = 1$\n",
    "\n",
    "Both of these values are $\\ge 0$ therfore B is symmetric positive semidefinite. $\\quad qed$\n",
    "\n",
    "To conclude B is a projection matrix and it is symmetric positive semi-definite."
   ]
  },
  {
   "cell_type": "markdown",
   "id": "d478de24",
   "metadata": {},
   "source": [
    "__Problem 3b__"
   ]
  },
  {
   "cell_type": "markdown",
   "id": "f302bd63",
   "metadata": {},
   "source": [
    "$$L(x,\\lambda) = \\frac{1}{2}x^{T}Bx + \\lambda^{T}(Ax - y)$$\n",
    "\n",
    "$$\\nabla_x L(x,\\lambda) = \\frac{\\partial}{\\partial x}\n",
    "\\frac{1}{2}x^{T}Bx + \\lambda^{T}(Ax - y) =\\frac{1}{2} (B+B^{T})x + A^{T}\\lambda = 0$$\n",
    "\n",
    "$$\\nabla_\\lambda L(x,\\lambda) = \\frac{\\partial}{\\partial \\lambda}\n",
    "\\frac{1}{2}x^{T}Bx + \\lambda^{T}(Ax - y) =(Ax - y) = 0 \\implies Ax = y$$\n",
    "\n",
    "The equations above gives us the following matrix\n",
    "\n",
    "$$\n",
    "\\begin{bmatrix}\n",
    "    \\frac{1}{2} (B+B^{T}) & A^{T} \\\\\n",
    "    A & 0 \\\\\n",
    "\\end{bmatrix}\n",
    "\\begin{bmatrix}\n",
    "    x \\\\\n",
    "    \\lambda \n",
    "\\end{bmatrix}\n",
    "= \\begin{bmatrix}\n",
    "    0 \\\\\n",
    "    y\n",
    "\\end{bmatrix}\n",
    "$$\n",
    "\n",
    "Here 0 reperesentes a zeromatrix of resonable size. Futhermore we wish to decompose our system using the following definition/equality; \n",
    "\n",
    "$$x = \\begin{bmatrix}\n",
    "    u\\\\v\n",
    "\\end{bmatrix}$$\n",
    "\n",
    "as well as the fact that $B = I - WW^{T}$ and $u + v = y$. \n",
    "\n",
    "Here we are going to rewrite both B and A; \n",
    "\n",
    "$$B = \\begin{bmatrix}\n",
    "    B_0\\ 0\\\\0\\ B_1\n",
    "\\end{bmatrix} \\text{ and } A = \\begin{bmatrix}\n",
    "    I\\ I\n",
    "\\end{bmatrix}$$\n",
    "\n",
    "\n",
    "$$\\frac{1}{2} (B+B^{T})x + A^{T}\\lambda = Bx + A^{T}\\lambda =0$$\n",
    "\n",
    "$$Ax = y$$\n",
    "\n",
    "We can rewrite the first equation into\n",
    "$$\\begin{bmatrix}\n",
    "    B_0\\ 0\\\\0\\ B_1\n",
    "\\end{bmatrix}\\begin{bmatrix}\n",
    "    u\\\\v\n",
    "\\end{bmatrix} + \\begin{bmatrix}\n",
    "    I\\\\ I\n",
    "\\end{bmatrix} \\lambda = 0$$\n",
    "\n",
    "this gives us two equations: \n",
    "\n",
    "\n",
    "$$B_0 u + \\lambda = 0 \\text{ and } B_1v  + \\lambda = 0$$\n",
    "\n",
    "\n",
    "\n",
    "the second of the two orignial equations gives us \n",
    "\n",
    "$$\\begin{bmatrix}\n",
    "    I\\ I\n",
    "\\end{bmatrix} \\begin{bmatrix}\n",
    "    u\\\\v\n",
    "\\end{bmatrix} = u + v = y$$\n",
    "\n",
    "We now have a total of three equations which we can rewrite into a system of equations: \n",
    "\n",
    "$$\\begin{bmatrix}\n",
    "    B_0 & 0 & I \\\\\n",
    "    0 & B_0 & I \\\\\n",
    "    I & I & 0\n",
    "\\end{bmatrix}\\begin{bmatrix}\n",
    "    u \\\\\n",
    "    v \\\\\n",
    "    \\lambda\n",
    "\\end{bmatrix} =\\begin{bmatrix}\n",
    "    0 \\\\\n",
    "    0 \\\\\n",
    "    y\n",
    "\\end{bmatrix} $$\n",
    "\n",
    "\n",
    "No we recall $B = I - WW^{T}$ and $B = \\begin{bmatrix}\n",
    "    B_0\\ 0\\\\0\\ B_1\n",
    "\\end{bmatrix}$ this implies that $B = \\begin{bmatrix}\n",
    "    I - W_0W_0^{T}& 0\\\\0& I - W_1W_1^{T}\\end{bmatrix}$\n",
    "    \n",
    "The system above can now be written as\n",
    "$$\\begin{bmatrix}\n",
    "    I - W_0W_0^{T}& 0 & I \\\\\n",
    "    0 & I - W_1W_1^{T} & I \\\\\n",
    "    I & I & 0\n",
    "\\end{bmatrix}\\begin{bmatrix}\n",
    "    u \\\\\n",
    "    v \\\\\n",
    "    \\lambda\n",
    "\\end{bmatrix} =\\begin{bmatrix}\n",
    "    0 \\\\\n",
    "    0 \\\\\n",
    "    y\n",
    "\\end{bmatrix} $$\n",
    "\n",
    "What we wish to do next is to eliminate $\\lambda$ from our equation and rewrite our system as $Cu = d$, for some matrix C and vector $d$"
   ]
  },
  {
   "cell_type": "markdown",
   "id": "4587ae26",
   "metadata": {},
   "source": [
    "We have that $B_0u + \\lambda = 0$ and $B_1v + \\lambda = 0$. If we subtract the second of these from the first we get\n",
    "\n",
    "$$B_0u - B_1v = 0$$\n",
    "\n",
    "Using the fact that $ y = u + v \\iff v = y-u$ we get \n",
    "\n",
    "$$B_0u - B_1(y-u) =B_0u - B_1y+B_1u =0 \\iff (B_0 +B_1)u = B_1y$$\n",
    "Here $ C = (B_0 +B_1)$ and $d =  B_1y$\n",
    "\n",
    "In the implementation below I have chosen to use the numpy implementation np.linalg.solve to solve the system. The reason for this is that I know that this method solves the system as well, both timewise and errorwise, as many of my implementations, from previous experiments. As well as it is a much used and well known implementation. There is a much smaller likelihood that there exist error in the numpy method, than there exist error in methods I have implemented. "
   ]
  },
  {
   "cell_type": "code",
   "execution_count": 39,
   "id": "a7ca2913",
   "metadata": {},
   "outputs": [],
   "source": [
    "# Implementation using numpy\n",
    "def Minimal_norm(W0, W1, y_input):\n",
    "    I = np.identity(len(W0))\n",
    "    \n",
    "    B0 = I - np.matmul(W0,W0.T)\n",
    "    B1 = I - np.matmul(W1,W1.T)  \n",
    "    \n",
    "    u = np.linalg.solve((B1+B0),np.matmul(B1,y_input))\n",
    "    v = y_input - u\n",
    "    \n",
    "    return u , v"
   ]
  },
  {
   "cell_type": "markdown",
   "id": "0f85bfe8",
   "metadata": {},
   "source": [
    "__Problem 3d__\n",
    "\n",
    "I know wanna test my implementation from 3b. First I am loading the basis vector stored in the handout data. Then I am going to test my method on the 100 images stored in the mixed.npy. "
   ]
  },
  {
   "cell_type": "code",
   "execution_count": 40,
   "id": "877303f1",
   "metadata": {},
   "outputs": [
    {
     "name": "stdout",
     "output_type": "stream",
     "text": [
      "(784, 16)\n",
      "(784, 16)\n"
     ]
    },
    {
     "data": {
      "text/plain": [
       "\"plt.imshow(W0[:,0].reshape((28,28)), cmap = 'gray')\\nplt.axis('off')\\nplt.show()\\n\\nW0TW0 = np.dot(W0.T, W0)\\nplt.imshow(W0TW0)\\nplt.show()\""
      ]
     },
     "execution_count": 40,
     "metadata": {},
     "output_type": "execute_result"
    }
   ],
   "source": [
    "W0 = np.load('Data/W0.npy')\n",
    "W1 = np.load('Data/W1.npy')\n",
    "print(W0.shape) # Should be (784,16)\n",
    "print(W1.shape) # Should be (784,16)\n",
    "\n",
    "'''plt.imshow(W0[:,0].reshape((28,28)), cmap = 'gray')\n",
    "plt.axis('off')\n",
    "plt.show()\n",
    "\n",
    "W0TW0 = np.dot(W0.T, W0)\n",
    "plt.imshow(W0TW0)\n",
    "plt.show()'''"
   ]
  },
  {
   "cell_type": "code",
   "execution_count": 41,
   "id": "9dbd20ab",
   "metadata": {},
   "outputs": [
    {
     "name": "stdout",
     "output_type": "stream",
     "text": [
      "(784, 100)\n"
     ]
    },
    {
     "data": {
      "image/png": "[encoded data removed]",
      "text/plain": [
       "<Figure size 432x288 with 1 Axes>"
      ]
     },
     "metadata": {
      "needs_background": "light"
     },
     "output_type": "display_data"
    },
    {
     "data": {
      "image/png": "[encoded data removed]",
      "text/plain": [
       "<Figure size 432x288 with 1 Axes>"
      ]
     },
     "metadata": {
      "needs_background": "light"
     },
     "output_type": "display_data"
    }
   ],
   "source": [
    "Mixes = np.load('Data/mixed.npy')\n",
    "print(Mixes.shape) # Should be (784,100)\n",
    "\n",
    "plt.imshow(Mixes[:,1].reshape((28,28)), cmap = 'gray')\n",
    "plt.axis('off') # Removes the x and y axis to plot only the image\n",
    "plt.show()\n",
    "\n",
    "plt.imshow(Mixes[:,32].reshape((28,28)), cmap = 'gray')\n",
    "plt.axis('off') # Removes the x and y axis to plot only the image\n",
    "plt.show()"
   ]
  },
  {
   "cell_type": "code",
   "execution_count": 42,
   "id": "56322c66",
   "metadata": {},
   "outputs": [
    {
     "name": "stdout",
     "output_type": "stream",
     "text": [
      "The minimal norm uses  2.0983731746673584 s\n"
     ]
    }
   ],
   "source": [
    "# Tests out method\n",
    "u = Mixes.copy()\n",
    "v = Mixes.copy()\n",
    "t_start = time.time()\n",
    "for i in range(len(Mixes[0])):\n",
    "    u[:,i],v[:,i] = Minimal_norm(W0, W1, Mixes[:,i])\n",
    "    \n",
    "t_stop = time.time()\n",
    "\n",
    "print(\"The minimal norm uses \",t_stop-t_start,\"s\")"
   ]
  },
  {
   "cell_type": "code",
   "execution_count": 43,
   "id": "3d2a2ba7",
   "metadata": {},
   "outputs": [
    {
     "data": {
      "image/png": "[encoded data removed]",
      "text/plain": [
       "<Figure size 1152x1152 with 4 Axes>"
      ]
     },
     "metadata": {
      "needs_background": "light"
     },
     "output_type": "display_data"
    }
   ],
   "source": [
    "# Plots a image\n",
    "fig, axs = plt.subplots(2,2,figsize=(16, 16))\n",
    "fig.suptitle('Vertically stacked subplots')\n",
    "\n",
    "axs[0][0].imshow(u[:,11].reshape((28,28)), cmap = 'gray')\n",
    "axs[0][1].imshow(v[:,11].reshape((28,28)), cmap = 'gray')\n",
    "axs[1][0].imshow(Mixes[:,11].reshape((28,28)), cmap = 'gray')\n",
    "axs[1][1].imshow((u+v)[:,11].reshape((28,28)), cmap = 'gray')\n",
    "\n",
    "# Set title\n",
    "axs[0][0].set_title(\" Picture of the number 0 (u)\")\n",
    "axs[0][1].set_title(\" Picture of the number 1 (v)\")\n",
    "axs[1][0].set_title(\" The original picture\")\n",
    "axs[1][1].set_title(\"The reconstructed picture\")\n",
    "\n",
    "# Remove grid\n",
    "axs[0][0].set_axis_off()\n",
    "axs[0][1].set_axis_off()\n",
    "axs[1][0].set_axis_off()\n",
    "axs[1][1].set_axis_off()"
   ]
  },
  {
   "cell_type": "code",
   "execution_count": 44,
   "id": "86c7129e",
   "metadata": {},
   "outputs": [
    {
     "name": "stdout",
     "output_type": "stream",
     "text": [
      "This one u (number zero) and some of its values\n",
      " [-7.09591703e-16  3.56940875e-17 -8.90234866e-17  3.58476281e-17\n",
      "  2.21729180e-16  3.25272874e-17 -1.03899863e-16 -1.29926002e-16\n",
      " -2.37814895e-16 -7.84519151e-17]\n",
      "\n",
      "This one v (number one) values\n",
      " [ 7.09591703e-16 -3.56940875e-17  8.90234866e-17 -3.58476281e-17\n",
      " -2.21729180e-16 -3.25272874e-17  1.03899863e-16  1.29926002e-16\n",
      "  2.37814895e-16  7.84519151e-17]\n"
     ]
    }
   ],
   "source": [
    "# Checks som of the values of u and v, uses the same u and v as plotted above\n",
    "print(\"This one u (number zero) and some of its values\\n\",u[0:10,11])\n",
    "\n",
    "print(\"\\nThis one v (number one) values\\n\",v[0:10,11])\n"
   ]
  },
  {
   "cell_type": "markdown",
   "id": "18967d50",
   "metadata": {},
   "source": [
    "It does not take a lot of time to seperate all of the images using the minimal norm function with numpy implementation, in total it is under 2 seconds. The seperated images shows a clear number 0 and number 1. So our method have succeeded in seperating the two images. For comparison, the picture on the lower left is an illustration of the original image. One can se the same shapes here as in the seperated images, though not as clear as in the seperated one. Please note that for the image of the number 0, there is a clear (though a bit faded) zero in the background. To conclude our method works for single channel source separation. There are however one thing worth noticing. Printed above is some of the values for the u and v matrices, some of these values are negative. Which is odd seen as the original image only have values between 0 and 1. "
   ]
  },
  {
   "cell_type": "markdown",
   "id": "804bbc3d",
   "metadata": {},
   "source": [
    "__Conclution__\n",
    "\n",
    "To conclude in this project we have implemented and compared different methods for solving underdetermined linear systems. We have implemented two methods to try and compete with the numpy implementations, the QR-decomposition method and the Tikhonov method. The first has a long precalculation time, but will be computationally faster than the numpy implementation, for a large enough number of solution for the same matrix A. The Tikhonov method is computationally fast, but for high values of $\\mu$ it had a great erro. In the last part of the project we tried to use one of our methods on a more practical experiment, the single channel source separation problem. I this case we chose to use the numpy implementation. In the last part of this project we saw that the methods we have implemented are possible to use for these kinds of situations with reasonable results. \n",
    "\n",
    "\n",
    "__Sources__\n",
    "\n",
    "R. Bergmann, E. Çokaj, M. Ludvigsen, $\\textit{Project #1, TMA4215 Numerical Mathematics}$"
   ]
  }
 ],
 "metadata": {
  "kernelspec": {
   "display_name": "Python 3",
   "language": "python",
   "name": "python3"
  },
  "language_info": {
   "codemirror_mode": {
    "name": "ipython",
    "version": 3
   },
   "file_extension": ".py",
   "mimetype": "text/x-python",
   "name": "python",
   "nbconvert_exporter": "python",
   "pygments_lexer": "ipython3",
   "version": "3.8.8"
  }
 },
 "nbformat": 4,
 "nbformat_minor": 5
}
